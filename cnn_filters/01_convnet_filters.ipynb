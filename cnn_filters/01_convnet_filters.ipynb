{
 "cells": [
  {
   "cell_type": "code",
   "execution_count": null,
   "metadata": {},
   "outputs": [],
   "source": [
    "import numpy as np\n",
    "\n",
    "import cv2\n",
    "\n",
    "import os\n",
    "\n",
    "# neural net\n",
    "import torch\n",
    "import torch.nn as nn\n",
    "import torch.nn.functional as F\n",
    "\n",
    "import matplotlib.pyplot as plt\n",
    "%matplotlib inline"
   ]
  },
  {
   "cell_type": "markdown",
   "metadata": {},
   "source": [
    "## load image"
   ]
  },
  {
   "cell_type": "code",
   "execution_count": null,
   "metadata": {},
   "outputs": [],
   "source": [
    "PATH = os.getcwd()\n",
    "PATH"
   ]
  },
  {
   "cell_type": "code",
   "execution_count": null,
   "metadata": {},
   "outputs": [],
   "source": [
    "# image path\n",
    "img_path = PATH + '/data/boomberman.jpg'\n",
    "\n",
    "# load color image \n",
    "bgr_img = cv2.imread(img_path)\n",
    "\n",
    "# convert to grayscale\n",
    "gray_img = cv2.cvtColor(bgr_img, cv2.COLOR_BGR2GRAY)\n",
    "\n",
    "# normalize, rescale entries to lie in [0,1]\n",
    "gray_img = gray_img.astype(\"float32\")/255\n",
    "\n",
    "# plot image\n",
    "plt.imshow(gray_img, cmap='gray')\n",
    "plt.show()"
   ]
  },
  {
   "cell_type": "markdown",
   "metadata": {},
   "source": [
    "## define and visualize the filters"
   ]
  },
  {
   "cell_type": "code",
   "execution_count": null,
   "metadata": {},
   "outputs": [],
   "source": [
    "def get_filters(base_filter):\n",
    "    \n",
    "    filter_1 = base_filter\n",
    "    filter_2 = - base_filter\n",
    "    filter_3 = base_filter.T\n",
    "    filter_4 = - filter_3\n",
    "    \n",
    "    filters = np.array([ filter_1, filter_2, filter_3, filter_4 ])\n",
    "    \n",
    "    return filters\n",
    "\n",
    "def plot_filters(filters):\n",
    "    \n",
    "    fig = plt.figure(figsize=(10, 5))\n",
    "    for i in range(4):\n",
    "        ax = fig.add_subplot(1, 4, i+1, xticks=[], yticks=[])\n",
    "        ax.imshow(filters[i], cmap='gray')\n",
    "        ax.set_title('Filter %s' % str(i+1))\n",
    "        width, height = filters[i].shape\n",
    "        for x in range(width):\n",
    "            for y in range(height):\n",
    "                ax.annotate(str(filters[i][x][y]), xy=(y,x),\n",
    "                            horizontalalignment='center',\n",
    "                            verticalalignment='center',\n",
    "                            color='white' if filters[i][x][y]<0 else 'black')\n",
    "                \n",
    "    return fig\n",
    "\n",
    "# helper function for visualizing the output of a given layer\n",
    "# default number of filters is 4\n",
    "def viz_layer(layer, n_filters= 4):\n",
    "    fig = plt.figure(figsize=(20, 20))\n",
    "    \n",
    "    for i in range(n_filters):\n",
    "        ax = fig.add_subplot(1, n_filters, i+1, xticks=[], yticks=[])\n",
    "        # grab layer outputs\n",
    "        ax.imshow(np.squeeze(layer[0,i].data.numpy()), cmap='gray')\n",
    "        ax.set_title('Output %s' % str(i+1))"
   ]
  },
  {
   "cell_type": "code",
   "execution_count": null,
   "metadata": {},
   "outputs": [],
   "source": [
    "# filters\n",
    "filter_A = np.array([\n",
    "    [-1, 1], \n",
    "    [-1, 1]\n",
    "])\n",
    "\n",
    "filter_B = np.array([\n",
    "    [-1, -1, 1, 1], \n",
    "    [-1, -1, 1, 1], \n",
    "    [-1, -1, 1, 1], \n",
    "    [-1, -1, 1, 1]\n",
    "])\n",
    "\n",
    "print('Filter A shape: ', filter_A.shape)\n",
    "print('Filter B shape: ', filter_B.shape)"
   ]
  },
  {
   "cell_type": "code",
   "execution_count": null,
   "metadata": {},
   "outputs": [],
   "source": [
    "# Defining four different filters,\n",
    "# all of which are linear combinations of a 'base_filter' defined above\n",
    "\n",
    "filters_A = get_filters(filter_A)\n",
    "filters_B = get_filters(filter_B)"
   ]
  },
  {
   "cell_type": "code",
   "execution_count": null,
   "metadata": {},
   "outputs": [],
   "source": [
    "print('Filter A')\n",
    "fig_a = plot_filters(filters_A)"
   ]
  },
  {
   "cell_type": "code",
   "execution_count": null,
   "metadata": {},
   "outputs": [],
   "source": [
    "print('Filter B')\n",
    "fig_b = plot_filters(filters_B)"
   ]
  },
  {
   "cell_type": "code",
   "execution_count": null,
   "metadata": {},
   "outputs": [],
   "source": [
    "# define a network with a single cnn and four filters\n",
    "\n",
    "class network(nn.Module):\n",
    "    \n",
    "    def __init__(self, weight):\n",
    "        \n",
    "        super(network, self).__init__()\n",
    "        \n",
    "        # initialize the weights of the convolutional layer to be the weights of the four filters \n",
    "        \n",
    "        k_height, k_width = weight.shape[2:]\n",
    "        \n",
    "        # assumes there are four grayscale filters\n",
    "        \n",
    "        self.conv = nn.Conv2d(1, 4, kernel_size=(k_height, k_width), bias=False)\n",
    "        self.conv.weight = torch.nn.Parameter(weight)\n",
    "        \n",
    "    def forward(self, x):\n",
    "        \n",
    "        # compute the output of the cnn\n",
    "        \n",
    "        # pre- and post-activation\n",
    "        \n",
    "        conv_x = self.conv(x)\n",
    "        activated_x = F.relu(conv_x)\n",
    "        \n",
    "        # returns both layers\n",
    "        return conv_x, activated_x\n",
    "\n",
    "filters = [filters_A, filters_B]\n",
    "\n",
    "models = []\n",
    "for f in filters:\n",
    "    \n",
    "    # instantiate the model and set the weights\n",
    "    weight = torch.from_numpy(f).unsqueeze(1).type(torch.FloatTensor)\n",
    "    model = network(weight)\n",
    "    \n",
    "    # print out the layers of the network\n",
    "    #print(model)\n",
    "    \n",
    "    models.append(model)\n",
    "    \n",
    "print(models)"
   ]
  },
  {
   "cell_type": "code",
   "execution_count": null,
   "metadata": {},
   "outputs": [],
   "source": [
    "# plot original image\n",
    "plt.imshow(gray_img, cmap='gray')\n",
    "\n",
    "print('Filter A')\n",
    "fig_a = plot_filters(filters_A)\n",
    "\n",
    "print('Filter B')\n",
    "fig_b = plot_filters(filters_B)\n",
    "\n",
    "# convert the image into an input Tensor\n",
    "gray_img_tensor = torch.from_numpy(gray_img).unsqueeze(0).unsqueeze(1)\n",
    "\n",
    "# get the convolutional layer (pre and post activation)\n",
    "for m in models:\n",
    "    \n",
    "    # get the convolutional layer (pre and post activation)\n",
    "    conv_layer, activated_layer = m(gray_img_tensor)\n",
    "    \n",
    "    # visualize the output of a conv layer\n",
    "    viz_layer(conv_layer)\n",
    "    \n",
    "    # visualize the output of an activated conv layer\n",
    "    viz_layer(activated_layer)"
   ]
  },
  {
   "cell_type": "code",
   "execution_count": null,
   "metadata": {},
   "outputs": [],
   "source": []
  }
 ],
 "metadata": {
  "kernelspec": {
   "display_name": "pytorch",
   "language": "python",
   "name": "pytorch"
  },
  "language_info": {
   "codemirror_mode": {
    "name": "ipython",
    "version": 3
   },
   "file_extension": ".py",
   "mimetype": "text/x-python",
   "name": "python",
   "nbconvert_exporter": "python",
   "pygments_lexer": "ipython3",
   "version": "3.6.10"
  }
 },
 "nbformat": 4,
 "nbformat_minor": 4
}
