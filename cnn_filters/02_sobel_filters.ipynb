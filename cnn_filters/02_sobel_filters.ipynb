{
 "cells": [
  {
   "cell_type": "code",
   "execution_count": null,
   "metadata": {},
   "outputs": [],
   "source": [
    "import numpy as np\n",
    "\n",
    "import cv2\n",
    "\n",
    "import os\n",
    "\n",
    "\n",
    "import matplotlib.pyplot as plt\n",
    "%matplotlib inline"
   ]
  },
  {
   "cell_type": "markdown",
   "metadata": {},
   "source": [
    "## load image"
   ]
  },
  {
   "cell_type": "code",
   "execution_count": null,
   "metadata": {},
   "outputs": [],
   "source": [
    "PATH = os.getcwd()\n",
    "PATH"
   ]
  },
  {
   "cell_type": "code",
   "execution_count": null,
   "metadata": {},
   "outputs": [],
   "source": [
    "# image path\n",
    "img_path = PATH + '/data/boomberman.jpg'\n",
    "\n",
    "# load color image \n",
    "bgr_img = cv2.imread(img_path)\n",
    "\n",
    "# convert to grayscale\n",
    "gray_img = cv2.cvtColor(bgr_img, cv2.COLOR_BGR2GRAY)\n",
    "\n",
    "# normalize, rescale entries to lie in [0,1]\n",
    "gray_img = gray_img.astype(\"float32\")/255\n",
    "\n",
    "# plot image\n",
    "plt.imshow(gray_img, cmap='gray')\n",
    "plt.show()"
   ]
  },
  {
   "cell_type": "code",
   "execution_count": null,
   "metadata": {},
   "outputs": [],
   "source": [
    "# definig sobel filters (approximation of the derivative of the image)\n",
    "\n",
    "# 3x3 array for edge detection\n",
    "\n",
    "sobel_x = np.array(\n",
    "    [\n",
    "        [-1, 0, 1], \n",
    "        [-2, 0, 2],\n",
    "        [-1, 0, 1]\n",
    "    ]\n",
    ")\n",
    "\n",
    "sobel_y = np.array(\n",
    "    [\n",
    "        [-1, -2, -1], \n",
    "        [0, 0, 0], \n",
    "        [1, 2, 1]\n",
    "    ]\n",
    ")\n",
    "\n",
    "# filter the image using filter 2D, which has inputs: (grayscale image, bit-depth, kernel)\n",
    "\n",
    "f_images = []\n",
    "for f in [sobel_x, sobel_y]:\n",
    "    f_images.append(cv2.filter2D(gray_img, -1, f))"
   ]
  },
  {
   "cell_type": "code",
   "execution_count": null,
   "metadata": {},
   "outputs": [],
   "source": [
    "plt.imshow(f_images[0], cmap='gray')"
   ]
  },
  {
   "cell_type": "code",
   "execution_count": null,
   "metadata": {},
   "outputs": [],
   "source": [
    "plt.imshow(f_images[1], cmap='gray')"
   ]
  },
  {
   "cell_type": "code",
   "execution_count": null,
   "metadata": {},
   "outputs": [],
   "source": []
  }
 ],
 "metadata": {
  "kernelspec": {
   "display_name": "pytorch",
   "language": "python",
   "name": "pytorch"
  },
  "language_info": {
   "codemirror_mode": {
    "name": "ipython",
    "version": 3
   },
   "file_extension": ".py",
   "mimetype": "text/x-python",
   "name": "python",
   "nbconvert_exporter": "python",
   "pygments_lexer": "ipython3",
   "version": "3.6.10"
  }
 },
 "nbformat": 4,
 "nbformat_minor": 4
}
