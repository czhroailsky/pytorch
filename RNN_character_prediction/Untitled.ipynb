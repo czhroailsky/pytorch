{
 "cells": [
  {
   "cell_type": "code",
   "execution_count": 1,
   "id": "c86c2e82-806e-441c-9765-3e935c612b75",
   "metadata": {},
   "outputs": [],
   "source": [
    "import numpy as np\n",
    "\n",
    "import os"
   ]
  },
  {
   "cell_type": "code",
   "execution_count": 2,
   "id": "7a9dd579-154f-45b1-ab9f-fd34afd3869a",
   "metadata": {},
   "outputs": [
    {
     "name": "stdout",
     "output_type": "stream",
     "text": [
      "PATH: /Users/tontoman/Documents/GitHub/pytorch/RNN_character_prediction/\n",
      "data path: /Users/tontoman/Documents/GitHub/pytorch/RNN_character_prediction/data/\n"
     ]
    }
   ],
   "source": [
    "\"\"\"\n",
    "\n",
    "    where am i?\n",
    "\n",
    "\"\"\"\n",
    "\n",
    "PATH = os.getcwd() + '/'\n",
    "data_path = PATH + 'data/'\n",
    "\n",
    "print(f'PATH: {PATH}')\n",
    "print(f'data path: {data_path}')"
   ]
  },
  {
   "cell_type": "code",
   "execution_count": 3,
   "id": "a9ee984e-220e-4f7a-96cd-b40e9b912f1c",
   "metadata": {},
   "outputs": [
    {
     "name": "stdout",
     "output_type": "stream",
     "text": [
      "\n",
      "first 100 characters\n"
     ]
    },
    {
     "data": {
      "text/plain": [
       "'Project Gutenberg AustraliaTitle:      The Great GatsbyAuthor:     F. Scott Fitzgerald* A Project Gu'"
      ]
     },
     "execution_count": 3,
     "metadata": {},
     "output_type": "execute_result"
    }
   ],
   "source": [
    "\"\"\"\n",
    "\n",
    "    load text\n",
    "\n",
    "\"\"\"\n",
    "\n",
    "with open( data_path + 'the_great_gatsby.txt', 'r') as f:\n",
    "    text = f.read()\n",
    "    \n",
    "# some cleaning\n",
    "text = text.replace('\\n', '')\n",
    "    \n",
    "n = 100\n",
    "print(f'\\nfirst {n} characters')\n",
    "text[:100]"
   ]
  },
  {
   "cell_type": "code",
   "execution_count": 4,
   "id": "ac779b29-77ca-4b5f-9c19-37569de35590",
   "metadata": {},
   "outputs": [
    {
     "name": "stdout",
     "output_type": "stream",
     "text": [
      "\n",
      "encoded text: \n"
     ]
    },
    {
     "data": {
      "text/plain": [
       "array([54, 23, 28, ...,  0,  4,  7])"
      ]
     },
     "execution_count": 4,
     "metadata": {},
     "output_type": "execute_result"
    }
   ],
   "source": [
    "\"\"\"\n",
    "\n",
    "    tokenization and encoding\n",
    "\n",
    "\"\"\"\n",
    "\n",
    "chars = tuple(set(text))\n",
    "int2char = dict(enumerate(chars))\n",
    "char2int = { ch: v for v, ch in int2char.items() }\n",
    "\n",
    "# encode the text\n",
    "encoded = np.array( [ char2int[ch] for ch in text ] )\n",
    "\n",
    "print('\\nencoded text: ')\n",
    "encoded"
   ]
  },
  {
   "cell_type": "code",
   "execution_count": 5,
   "id": "d9cabade-7d81-4e62-81a0-9dfd60b7c3e9",
   "metadata": {},
   "outputs": [
    {
     "name": "stdout",
     "output_type": "stream",
     "text": [
      "\n",
      "test sequence shape: (1, 3)\n",
      "one hot encoded shape: (1, 3, 8)\n"
     ]
    },
    {
     "data": {
      "text/plain": [
       "(1, 3, 8)"
      ]
     },
     "execution_count": 5,
     "metadata": {},
     "output_type": "execute_result"
    }
   ],
   "source": [
    "\"\"\"\n",
    "\n",
    "    pre-processing the data\n",
    "    \n",
    "    the LSTM needs an input that is one-hot encoded meaning that each character is converted to an integer, and then converted to a column vector where only it's corresponding integer index will have the \n",
    "    value of 1 and the rest will be filled with 0's.\n",
    "\n",
    "\"\"\"\n",
    "\n",
    "def one_hot_encoder(arr, n_labels):\n",
    "    \n",
    "    # initialize the encoded array\n",
    "    one_hot = np.zeros((arr.size, n_labels), dtype=np.float32)\n",
    "    \n",
    "    # fill the appropriate elements with ones\n",
    "    one_hot[ np.arange( one_hot.shape[0] ), arr.flatten() ] = 1\n",
    "    \n",
    "    # finally reshape it to get back to the original array\n",
    "    one_hot = one_hot.reshape( ( *arr.shape, n_labels ) )\n",
    "    \n",
    "    return one_hot\n",
    "    \n",
    "# check that the function works as expected\n",
    "test_seq = np.array([[3, 5, 1]])\n",
    "one_hot = one_hot_encoder(test_seq, 8)\n",
    "\n",
    "print(f'\\ntest sequence shape: {test_seq.shape}')\n",
    "print(f'one hot encoded shape: {one_hot.shape}')\n",
    "one_hot.shape"
   ]
  },
  {
   "cell_type": "code",
   "execution_count": 14,
   "id": "97460a71-b404-45af-9822-ed8d329fd7c3",
   "metadata": {},
   "outputs": [
    {
     "name": "stdout",
     "output_type": "stream",
     "text": [
      "x\n",
      " [[0 1 2]\n",
      " [6 7 8]]\n",
      "\n",
      "y\n",
      " [[1 2 3]\n",
      " [7 8 9]]\n"
     ]
    }
   ],
   "source": [
    "\"\"\"\n",
    "\n",
    "    define the training mini-batches\n",
    "    \n",
    "    N <- batch size\n",
    "    M <- sequence lenght\n",
    "    K <- number of batches\n",
    "\n",
    "\"\"\"\n",
    "\n",
    "def get_batches(arr, batch_size, seq_length):\n",
    "    \n",
    "    # get the number of nbatches\n",
    "    total_batch = batch_size * seq_length # N * M\n",
    "    n_batches = arr.shape[0] // total_batch # k\n",
    "    \n",
    "    # get only enough characters to make the batches\n",
    "    arr = arr[ :n_batches * total_batch ]\n",
    "    \n",
    "    # reshape into batch size rows\n",
    "    size = ( batch_size, -1 ) # -1 is the placeholder\n",
    "    arr = arr.reshape( size)\n",
    "    \n",
    "    # iterate over the batches using a window of size seq_length\n",
    "    \n",
    "    for n in range( 0, arr.shape[1] , seq_length):\n",
    "        \n",
    "        # features\n",
    "        x = arr[ :, n : n + seq_length ]\n",
    "        \n",
    "        # the targets, shifted by one\n",
    "        y = np.zeros_like(x)\n",
    "        \n",
    "        try:\n",
    "            \n",
    "            y[ : , : -1], y[ : , -1 ] = x[ : , 1 : ], arr[ : , n+seq_length ]\n",
    "            \n",
    "        except IndexError:\n",
    "            \n",
    "            y[ : , : -1 ], y[ : , -1 ] = x[ : , 1 : ], arr[ : , 0 ]\n",
    "        \n",
    "        yield x, y\n",
    "    \n",
    "batch_size = 2\n",
    "seq_lenght = 3\n",
    "\n",
    "test_seq = np.arange(12) \n",
    "\n",
    "# test implementation\n",
    "batches = get_batches( test_seq, batch_size, seq_lenght )\n",
    "x, y = next(batches)\n",
    "\n",
    "# printing out the first 10 items in a sequence\n",
    "print('x\\n', x[:10, :10])\n",
    "print('\\ny\\n', y[:10, :10])"
   ]
  },
  {
   "cell_type": "code",
   "execution_count": null,
   "id": "e3e7f67b-ea6e-4a5a-b2bc-63b4ba4faaa7",
   "metadata": {},
   "outputs": [],
   "source": [
    "\"\"\"\n",
    "\n",
    "    defining the network with pytorch\n",
    "\n",
    "\"\"\"\n",
    "\n"
   ]
  }
 ],
 "metadata": {
  "kernelspec": {
   "display_name": "Python 3",
   "language": "python",
   "name": "python3"
  },
  "language_info": {
   "codemirror_mode": {
    "name": "ipython",
    "version": 3
   },
   "file_extension": ".py",
   "mimetype": "text/x-python",
   "name": "python",
   "nbconvert_exporter": "python",
   "pygments_lexer": "ipython3",
   "version": "3.7.10"
  }
 },
 "nbformat": 4,
 "nbformat_minor": 5
}
